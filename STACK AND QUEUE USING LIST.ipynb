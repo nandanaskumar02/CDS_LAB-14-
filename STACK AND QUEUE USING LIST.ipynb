{
 "cells": [
  {
   "cell_type": "markdown",
   "metadata": {},
   "source": [
    "STACK"
   ]
  },
  {
   "cell_type": "code",
   "execution_count": 3,
   "metadata": {},
   "outputs": [
    {
     "name": "stdout",
     "output_type": "stream",
     "text": [
      "Empty Stack\n",
      "['10']\n",
      "['10', '20']\n",
      "['10', '20', '40']\n",
      "Last stack value 40\n",
      "Display stack ['10', '20', '40']\n"
     ]
    }
   ],
   "source": [
    "l=[]\n",
    "while True:\n",
    "    c=int(input('''\n",
    "        1 Push Elements\n",
    "        2 Pop Element\n",
    "        3 Peek Element\n",
    "        4 Display Stack\n",
    "        5 Exit\n",
    "        '''))\n",
    "    if c==1:\n",
    "        n=input(\"Enter The Value\");\n",
    "        l.append(n)\n",
    "        print(l)\n",
    "    if c==2:\n",
    "        if len(l)==0:\n",
    "            print(\"Empty Stack\")\n",
    "        else:\n",
    "            p=l.pop()\n",
    "            print(p)\n",
    "            print(l)\n",
    "    elif c==3:\n",
    "        if len(l)==0:\n",
    "            print(\"Empty Stack\")\n",
    "        else:\n",
    "            print(\"Last stack value\",l[-1])\n",
    "    elif c==4:\n",
    "        print(\"Display stack\",l)\n",
    "    elif c==5:\n",
    "        break;\n",
    "    else:\n",
    "        print(\"Invalid Operation\")\n",
    "            "
   ]
  },
  {
   "cell_type": "markdown",
   "metadata": {},
   "source": [
    "QUEUE"
   ]
  },
  {
   "cell_type": "code",
   "execution_count": 5,
   "metadata": {},
   "outputs": [
    {
     "name": "stdout",
     "output_type": "stream",
     "text": [
      "['10']\n",
      "Invalid Operation\n",
      "['10', '20']\n",
      "Invalid Operation\n",
      "['10', '20', '30']\n",
      "Invalid Operation\n",
      "['10', '20', '30', '40']\n",
      "Invalid Operation\n",
      "['20', '30', '40']\n",
      "First Queue value 20\n",
      "Last Queue Value 40\n",
      "Display Queue ['20', '30', '40']\n"
     ]
    }
   ],
   "source": [
    "l=[]\n",
    "while True:\n",
    "    c=int(input('''\n",
    "        1 Push Elements\n",
    "        2 Pop First Element\n",
    "        3 Front Element\n",
    "        4 Last Element\n",
    "        5 Display Queue\n",
    "        6 Exit\n",
    "        '''))\n",
    "    if c==1:\n",
    "        n=input(\"Enter The Value\");\n",
    "        l.append(n)\n",
    "        print(l)\n",
    "    if c==2:\n",
    "        if len(l)==0:\n",
    "            print(\"Empty Queue\")\n",
    "        else:\n",
    "            del l[0]\n",
    "            print(l)\n",
    "    elif c==3:\n",
    "        if len(l)==0:\n",
    "            print(\"Empty Queue\")\n",
    "        else:\n",
    "            print(\"First Queue value\",l[0])\n",
    "    elif c==4:\n",
    "        if len(l)==0:\n",
    "          print(\"Print Queue\",l)\n",
    "        else:\n",
    "            print(\"Last Queue Value\",l[-1])\n",
    "    elif c==5:\n",
    "          print(\"Display Queue\",l)\n",
    "    elif c==6:\n",
    "        break;\n",
    "    else:\n",
    "        print(\"Invalid Operation\")"
   ]
  }
 ],
 "metadata": {
  "kernelspec": {
   "display_name": "Python 3",
   "language": "python",
   "name": "python3"
  },
  "language_info": {
   "codemirror_mode": {
    "name": "ipython",
    "version": 3
   },
   "file_extension": ".py",
   "mimetype": "text/x-python",
   "name": "python",
   "nbconvert_exporter": "python",
   "pygments_lexer": "ipython3",
   "version": "3.12.4"
  }
 },
 "nbformat": 4,
 "nbformat_minor": 2
}

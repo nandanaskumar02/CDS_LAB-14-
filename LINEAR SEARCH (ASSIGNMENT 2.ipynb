{
 "cells": [
  {
   "cell_type": "markdown",
   "metadata": {},
   "source": [
    "\n",
    "CDS_LAB-14\n",
    "LINEAR SEARCH IN PYTHON USING WHILE LOOP \n",
    "NANDANA.S.KUMAR\n",
    "9-07-2024\n",
    "\n",
    "\n",
    "ALGORITHM:\n",
    "\n",
    "STEP 1:-Start: Beginning of the flowchart.\n",
    "STEP 2:-Initialize i = 0: Set the starting index.\n",
    "STEP 3:-Check if i < len(list): Decision point to determine if the index is within the bounds of the list.\n",
    "STEP 4:-Check if list[i] == n: Decision point to check if the current element matches the target number.\n",
    "        Yes: Return the index i and print \"Found at i\".\n",
    "        No: Increment i and repeat the loop.\n",
    "STEP 5:-End of Loop: If the loop completes without finding the number, return -1 and print \"Not Found\".\n",
    "STEP 6:-End: End of the flowchart"
   ]
  },
  {
   "cell_type": "code",
   "execution_count": 1,
   "metadata": {},
   "outputs": [
    {
     "name": "stdout",
     "output_type": "stream",
     "text": [
      "Found at  6\n"
     ]
    }
   ],
   "source": [
    "def search(list, n):\n",
    "    for i in range(len(list)):\n",
    "        if list[i] == n:\n",
    "            return i\n",
    "    else:\n",
    "        return -1\n",
    "\n",
    "\n",
    "list = [3,45,2,3,56,7,40,35,1,7]\n",
    "n = 40\n",
    "\n",
    "if search(list, n)!= -1:\n",
    "    print(\"Found at \",search(list,n))\n",
    "else:\n",
    "    print(\"Not Found\")"
   ]
  }
 ],
 "metadata": {
  "kernelspec": {
   "display_name": "Python 3",
   "language": "python",
   "name": "python3"
  },
  "language_info": {
   "codemirror_mode": {
    "name": "ipython",
    "version": 3
   },
   "file_extension": ".py",
   "mimetype": "text/x-python",
   "name": "python",
   "nbconvert_exporter": "python",
   "pygments_lexer": "ipython3",
   "version": "3.12.4"
  }
 },
 "nbformat": 4,
 "nbformat_minor": 2
}
